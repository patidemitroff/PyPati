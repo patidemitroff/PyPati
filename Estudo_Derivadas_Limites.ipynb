{
  "nbformat": 4,
  "nbformat_minor": 0,
  "metadata": {
    "colab": {
      "provenance": [],
      "authorship_tag": "ABX9TyMscoP7oYB1MgVrrD6bxmti",
      "include_colab_link": true
    },
    "kernelspec": {
      "name": "python3",
      "display_name": "Python 3"
    },
    "language_info": {
      "name": "python"
    }
  },
  "cells": [
    {
      "cell_type": "markdown",
      "metadata": {
        "id": "view-in-github",
        "colab_type": "text"
      },
      "source": [
        "<a href=\"https://colab.research.google.com/github/patidemitroff/PyPati/blob/main/Estudo_Derivadas_Limites.ipynb\" target=\"_parent\"><img src=\"https://colab.research.google.com/assets/colab-badge.svg\" alt=\"Open In Colab\"/></a>"
      ]
    },
    {
      "cell_type": "code",
      "execution_count": 33,
      "metadata": {
        "id": "vEtJAnsPSNyx"
      },
      "outputs": [],
      "source": [
        "import numpy as np\n",
        "import sympy as smp\n",
        "import matplotlib.pyplot as plt\n"
      ]
    },
    {
      "cell_type": "code",
      "source": [
        "#var\n",
        "p = smp.Symbol('p')"
      ],
      "metadata": {
        "id": "rIJFF3RjSW3e"
      },
      "execution_count": 6,
      "outputs": []
    },
    {
      "cell_type": "code",
      "source": [
        "p"
      ],
      "metadata": {
        "colab": {
          "base_uri": "https://localhost:8080/",
          "height": 38
        },
        "id": "7_bBaDKhSW0p",
        "outputId": "ca860bbd-207a-44e7-dcc7-00e41bc7c9df"
      },
      "execution_count": 3,
      "outputs": [
        {
          "output_type": "execute_result",
          "data": {
            "text/plain": [
              "p"
            ],
            "text/latex": "$\\displaystyle p$"
          },
          "metadata": {},
          "execution_count": 3
        }
      ]
    },
    {
      "cell_type": "code",
      "source": [
        "#expression\n",
        "Lucro = -2*p**2 + 50,4*p - 10\n"
      ],
      "metadata": {
        "id": "wXnWWGi2SWxu"
      },
      "execution_count": 11,
      "outputs": []
    },
    {
      "cell_type": "code",
      "source": [
        "Lucro"
      ],
      "metadata": {
        "colab": {
          "base_uri": "https://localhost:8080/"
        },
        "id": "nMz_hpYgSWm2",
        "outputId": "e9e63bb3-ee24-4d23-9ad4-462b1230492d"
      },
      "execution_count": 12,
      "outputs": [
        {
          "output_type": "execute_result",
          "data": {
            "text/plain": [
              "(50 - 2*p**2, 4*p - 10)"
            ]
          },
          "metadata": {},
          "execution_count": 12
        }
      ]
    },
    {
      "cell_type": "code",
      "source": [
        "Lucro = smp.lambdify(p, Lucro)"
      ],
      "metadata": {
        "id": "43toTXOpSWgG"
      },
      "execution_count": 13,
      "outputs": []
    },
    {
      "cell_type": "markdown",
      "source": [
        "# ***a) Gráfico da função***"
      ],
      "metadata": {
        "id": "Iv50_GhRWDxs"
      }
    },
    {
      "cell_type": "code",
      "source": [
        "from sympy import Symbol, limit"
      ],
      "metadata": {
        "id": "8KIFnagKgVs8"
      },
      "execution_count": 46,
      "outputs": []
    },
    {
      "cell_type": "code",
      "source": [],
      "metadata": {
        "id": "1dzNSeVRgYmO"
      },
      "execution_count": null,
      "outputs": []
    },
    {
      "cell_type": "code",
      "source": [
        "y = [Lucro(i) for i in range(0, 10)]\n",
        "plt.plot(y)"
      ],
      "metadata": {
        "colab": {
          "base_uri": "https://localhost:8080/",
          "height": 465
        },
        "id": "p0qeVVWVVVTf",
        "outputId": "036100d2-8b29-466a-93de-c333536a59c4"
      },
      "execution_count": 19,
      "outputs": [
        {
          "output_type": "execute_result",
          "data": {
            "text/plain": [
              "[<matplotlib.lines.Line2D at 0x7b8a70cd21d0>,\n",
              " <matplotlib.lines.Line2D at 0x7b8a70cd2230>]"
            ]
          },
          "metadata": {},
          "execution_count": 19
        },
        {
          "output_type": "display_data",
          "data": {
            "text/plain": [
              "<Figure size 640x480 with 1 Axes>"
            ],
            "image/png": "[encoded data removed]"
          },
          "metadata": {}
        }
      ]
    },
    {
      "cell_type": "markdown",
      "source": [
        "# **b) Derivada**"
      ],
      "metadata": {
        "id": "XGf7GRy9WZrH"
      }
    },
    {
      "cell_type": "code",
      "source": [
        "import numpy as np\n",
        "import sympy as smp\n",
        "import matplotlib.pyplot as plt"
      ],
      "metadata": {
        "id": "wp_MDMdzgb57"
      },
      "execution_count": 51,
      "outputs": []
    },
    {
      "cell_type": "code",
      "source": [
        "from sympy import Symbol, limit\n"
      ],
      "metadata": {
        "id": "vhfG2CZkgfMv"
      },
      "execution_count": 48,
      "outputs": []
    },
    {
      "cell_type": "code",
      "source": [
        "#Var\n",
        "p = smp.Symbol('p')"
      ],
      "metadata": {
        "id": "uNy9y0S0VsbH"
      },
      "execution_count": 49,
      "outputs": []
    },
    {
      "cell_type": "code",
      "source": [
        "#expression\n",
        "Lucro = -2*p**2 + 50,4*p - 10"
      ],
      "metadata": {
        "id": "nI-DLrngWl1U"
      },
      "execution_count": 22,
      "outputs": []
    },
    {
      "cell_type": "code",
      "source": [
        "#calculo\n",
        "Lucro_original = smp.lambdify(p, Lucro)"
      ],
      "metadata": {
        "id": "tl4xoLtccdl9"
      },
      "execution_count": 31,
      "outputs": []
    },
    {
      "cell_type": "code",
      "source": [
        "print(Lucro_original)"
      ],
      "metadata": {
        "colab": {
          "base_uri": "https://localhost:8080/"
        },
        "id": "PLEpKnd-c8Qh",
        "outputId": "db6260c4-16ec-414a-bbd9-d545b8d22b46"
      },
      "execution_count": 32,
      "outputs": [
        {
          "output_type": "stream",
          "name": "stdout",
          "text": [
            "<function _lambdifygenerated at 0x7c581c0ba710>\n"
          ]
        }
      ]
    },
    {
      "cell_type": "code",
      "source": [
        "#first derivative\n",
        "Lucro_derivada = diff(Lucro)"
      ],
      "metadata": {
        "id": "t_s4uzBgY-Az"
      },
      "execution_count": 37,
      "outputs": []
    },
    {
      "cell_type": "code",
      "source": [
        "smp.simplify(Lucro_derivada)"
      ],
      "metadata": {
        "colab": {
          "base_uri": "https://localhost:8080/",
          "height": 55
        },
        "id": "_QcKzEJUZLYO",
        "outputId": "ff7a43b5-366e-4429-eca3-e28839fa8ae3"
      },
      "execution_count": 38,
      "outputs": [
        {
          "output_type": "execute_result",
          "data": {
            "text/plain": [
              "Derivative((50 - 2*p**2, 4*p - 10), p)"
            ],
            "text/latex": "$\\displaystyle \\frac{d}{d p} \\left( 50 - 2 p^{2}, \\  4 p - 10\\right)$"
          },
          "metadata": {},
          "execution_count": 38
        }
      ]
    },
    {
      "cell_type": "code",
      "source": [],
      "metadata": {
        "id": "DehBZuw5dwB0"
      },
      "execution_count": null,
      "outputs": []
    },
    {
      "cell_type": "markdown",
      "source": [
        "# **c) Encontre o preço para obter o lucro máximo**"
      ],
      "metadata": {
        "id": "wOeybsaFd0eE"
      }
    },
    {
      "cell_type": "code",
      "source": [
        "import numpy as np\n",
        "import sympy as smp\n",
        "import matplotlib.pyplot as plt\n",
        "#var\n",
        "x = smp.Symbol('x')\n",
        "#expression\n",
        "Lucro = smp.sympify(-2*x**2 + 50,4*x - 10)\n",
        "#calculo\n",
        "smp.limit(Lucro, x, 1)"
      ],
      "metadata": {
        "colab": {
          "base_uri": "https://localhost:8080/",
          "height": 37
        },
        "id": "81fyg9XLfLZB",
        "outputId": "23a53953-e766-466b-a824-73e2ad8631c5"
      },
      "execution_count": 76,
      "outputs": [
        {
          "output_type": "execute_result",
          "data": {
            "text/plain": [
              "48"
            ],
            "text/latex": "$\\displaystyle 48$"
          },
          "metadata": {},
          "execution_count": 76
        }
      ]
    },
    {
      "cell_type": "markdown",
      "source": [],
      "metadata": {
        "id": "GGS8ZyAEmC3x"
      }
    },
    {
      "cell_type": "code",
      "source": [
        "#grafico\n",
        "smp.plot(Lucro)"
      ],
      "metadata": {
        "colab": {
          "base_uri": "https://localhost:8080/",
          "height": 504
        },
        "id": "xvP2QwQBikbP",
        "outputId": "85a0565c-ae24-42f4-a7ee-beee19cb0497"
      },
      "execution_count": 70,
      "outputs": [
        {
          "output_type": "display_data",
          "data": {
            "text/plain": [
              "<Figure size 640x480 with 1 Axes>"
            ],
            "image/png": "[encoded data removed]"
          },
          "metadata": {}
        },
        {
          "output_type": "execute_result",
          "data": {
            "text/plain": [
              "<sympy.plotting.plot.Plot at 0x7c581bd4e380>"
            ]
          },
          "metadata": {},
          "execution_count": 70
        }
      ]
    },
    {
      "cell_type": "code",
      "source": [],
      "metadata": {
        "id": "5UNJsgNKljlC"
      },
      "execution_count": null,
      "outputs": []
    }
  ]
}